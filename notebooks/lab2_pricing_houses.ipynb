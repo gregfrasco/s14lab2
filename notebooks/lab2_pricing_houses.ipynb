{
 "cells": [
  {
   "cell_type": "markdown",
   "metadata": {},
   "source": [
    "## S14a: Lab 2 - Pricing, houses\n"
   ]
  },
  {
   "cell_type": "markdown",
   "metadata": {},
   "source": [
    "### 1. Let's start by reading in our data"
   ]
  },
  {
   "cell_type": "code",
   "execution_count": 1,
   "metadata": {
    "pycharm": {
     "name": "#%%\n"
    }
   },
   "outputs": [],
   "source": [
    "# Imports\n",
    "\n",
    "import numpy as np\n",
    "import pandas as pd"
   ]
  },
  {
   "cell_type": "code",
   "execution_count": 2,
   "metadata": {
    "pycharm": {
     "name": "#%%\n"
    }
   },
   "outputs": [
    {
     "data": {
      "text/html": [
       "<div>\n",
       "<style scoped>\n",
       "    .dataframe tbody tr th:only-of-type {\n",
       "        vertical-align: middle;\n",
       "    }\n",
       "\n",
       "    .dataframe tbody tr th {\n",
       "        vertical-align: top;\n",
       "    }\n",
       "\n",
       "    .dataframe thead th {\n",
       "        text-align: right;\n",
       "    }\n",
       "</style>\n",
       "<table border=\"1\" class=\"dataframe\">\n",
       "  <thead>\n",
       "    <tr style=\"text-align: right;\">\n",
       "      <th></th>\n",
       "      <th>MLSNUM</th>\n",
       "      <th>STATUS</th>\n",
       "      <th>LISTPRICE</th>\n",
       "      <th>SOLDPRICE</th>\n",
       "      <th>LISTDATE</th>\n",
       "      <th>SOLDDATE</th>\n",
       "      <th>EXPIREDDATE</th>\n",
       "      <th>DOM</th>\n",
       "      <th>DTO</th>\n",
       "      <th>ADDRESS</th>\n",
       "      <th>...</th>\n",
       "      <th>COOLING</th>\n",
       "      <th>ELEMENTARYSCHOOL</th>\n",
       "      <th>JUNIORHIGHSCHOOL</th>\n",
       "      <th>HIGHSCHOOL</th>\n",
       "      <th>OTHERFEATURES</th>\n",
       "      <th>PROPTYPE</th>\n",
       "      <th>STREETNAME</th>\n",
       "      <th>HOUSENUM1</th>\n",
       "      <th>HOUSENUM2</th>\n",
       "      <th>PHOTOURL</th>\n",
       "    </tr>\n",
       "  </thead>\n",
       "  <tbody>\n",
       "    <tr>\n",
       "      <th>0</th>\n",
       "      <td>72049670</td>\n",
       "      <td>SLD</td>\n",
       "      <td>239900.0</td>\n",
       "      <td>247000.0</td>\n",
       "      <td>8/6/2016</td>\n",
       "      <td>3/1/2018</td>\n",
       "      <td>NaN</td>\n",
       "      <td>295</td>\n",
       "      <td>295</td>\n",
       "      <td>16 Pine St</td>\n",
       "      <td>...</td>\n",
       "      <td>NaN</td>\n",
       "      <td>NaN</td>\n",
       "      <td>NaN</td>\n",
       "      <td>NaN</td>\n",
       "      <td>NaN</td>\n",
       "      <td>MF</td>\n",
       "      <td>Pine St</td>\n",
       "      <td>16</td>\n",
       "      <td>16</td>\n",
       "      <td>http://media.mlspin.com/photo.aspx?mls=72049670</td>\n",
       "    </tr>\n",
       "    <tr>\n",
       "      <th>1</th>\n",
       "      <td>72056522</td>\n",
       "      <td>SLD</td>\n",
       "      <td>338000.0</td>\n",
       "      <td>338000.0</td>\n",
       "      <td>8/22/2016</td>\n",
       "      <td>3/1/2018</td>\n",
       "      <td>NaN</td>\n",
       "      <td>545</td>\n",
       "      <td>515</td>\n",
       "      <td>80 Cherry Drive</td>\n",
       "      <td>...</td>\n",
       "      <td>NaN</td>\n",
       "      <td>NaN</td>\n",
       "      <td>NaN</td>\n",
       "      <td>NaN</td>\n",
       "      <td>Basement:Yes;Fireplaces:1;Roof:Asphalt/Fibergl...</td>\n",
       "      <td>CC</td>\n",
       "      <td>Cherry Drive</td>\n",
       "      <td>80</td>\n",
       "      <td>80</td>\n",
       "      <td>http://media.mlspin.com/photo.aspx?mls=72056522</td>\n",
       "    </tr>\n",
       "    <tr>\n",
       "      <th>2</th>\n",
       "      <td>72080286</td>\n",
       "      <td>SLD</td>\n",
       "      <td>2999999.0</td>\n",
       "      <td>2950000.0</td>\n",
       "      <td>10/12/2016</td>\n",
       "      <td>3/1/2018</td>\n",
       "      <td>NaN</td>\n",
       "      <td>504</td>\n",
       "      <td>493</td>\n",
       "      <td>80 Monadnock Road</td>\n",
       "      <td>...</td>\n",
       "      <td>NaN</td>\n",
       "      <td>WPS</td>\n",
       "      <td>WMS</td>\n",
       "      <td>WHS</td>\n",
       "      <td>Basement:Yes;Fireplaces:3;Roof:Asphalt/Fibergl...</td>\n",
       "      <td>SF</td>\n",
       "      <td>Monadnock Road</td>\n",
       "      <td>80</td>\n",
       "      <td>80</td>\n",
       "      <td>http://media.mlspin.com/photo.aspx?mls=72080286</td>\n",
       "    </tr>\n",
       "    <tr>\n",
       "      <th>3</th>\n",
       "      <td>72118879</td>\n",
       "      <td>SLD</td>\n",
       "      <td>2600000.0</td>\n",
       "      <td>2600000.0</td>\n",
       "      <td>2/14/2017</td>\n",
       "      <td>3/1/2018</td>\n",
       "      <td>NaN</td>\n",
       "      <td>28</td>\n",
       "      <td>14</td>\n",
       "      <td>15 Trevino Circle</td>\n",
       "      <td>...</td>\n",
       "      <td>NaN</td>\n",
       "      <td>West Elementary</td>\n",
       "      <td>West Middle</td>\n",
       "      <td>Andover High</td>\n",
       "      <td>Basement:Yes;Fireplaces:3;Roof:--;Floor:--;App...</td>\n",
       "      <td>SF</td>\n",
       "      <td>Trevino Circle</td>\n",
       "      <td>15</td>\n",
       "      <td>15</td>\n",
       "      <td>http://media.mlspin.com/photo.aspx?mls=72118879</td>\n",
       "    </tr>\n",
       "    <tr>\n",
       "      <th>4</th>\n",
       "      <td>72124101</td>\n",
       "      <td>SLD</td>\n",
       "      <td>525000.0</td>\n",
       "      <td>525000.0</td>\n",
       "      <td>2/28/2017</td>\n",
       "      <td>3/1/2018</td>\n",
       "      <td>NaN</td>\n",
       "      <td>867</td>\n",
       "      <td>287</td>\n",
       "      <td>53 Maple Ridge Rd</td>\n",
       "      <td>...</td>\n",
       "      <td>NaN</td>\n",
       "      <td>NaN</td>\n",
       "      <td>NaN</td>\n",
       "      <td>Northampton</td>\n",
       "      <td>Basement:Yes;Fireplaces:1;Roof:Asphalt/Fibergl...</td>\n",
       "      <td>SF</td>\n",
       "      <td>Maple Ridge Rd</td>\n",
       "      <td>53</td>\n",
       "      <td>53</td>\n",
       "      <td>http://media.mlspin.com/photo.aspx?mls=72124101</td>\n",
       "    </tr>\n",
       "  </tbody>\n",
       "</table>\n",
       "<p>5 rows × 38 columns</p>\n",
       "</div>"
      ],
      "text/plain": [
       "     MLSNUM STATUS  LISTPRICE  SOLDPRICE    LISTDATE  SOLDDATE  EXPIREDDATE  \\\n",
       "0  72049670    SLD   239900.0   247000.0    8/6/2016  3/1/2018          NaN   \n",
       "1  72056522    SLD   338000.0   338000.0   8/22/2016  3/1/2018          NaN   \n",
       "2  72080286    SLD  2999999.0  2950000.0  10/12/2016  3/1/2018          NaN   \n",
       "3  72118879    SLD  2600000.0  2600000.0   2/14/2017  3/1/2018          NaN   \n",
       "4  72124101    SLD   525000.0   525000.0   2/28/2017  3/1/2018          NaN   \n",
       "\n",
       "   DOM  DTO            ADDRESS  ... COOLING ELEMENTARYSCHOOL  \\\n",
       "0  295  295         16 Pine St  ...     NaN              NaN   \n",
       "1  545  515    80 Cherry Drive  ...     NaN              NaN   \n",
       "2  504  493  80 Monadnock Road  ...     NaN              WPS   \n",
       "3   28   14  15 Trevino Circle  ...     NaN  West Elementary   \n",
       "4  867  287  53 Maple Ridge Rd  ...     NaN              NaN   \n",
       "\n",
       "   JUNIORHIGHSCHOOL    HIGHSCHOOL  \\\n",
       "0               NaN           NaN   \n",
       "1               NaN           NaN   \n",
       "2               WMS           WHS   \n",
       "3       West Middle  Andover High   \n",
       "4               NaN   Northampton   \n",
       "\n",
       "                                       OTHERFEATURES  PROPTYPE  \\\n",
       "0                                                NaN        MF   \n",
       "1  Basement:Yes;Fireplaces:1;Roof:Asphalt/Fibergl...        CC   \n",
       "2  Basement:Yes;Fireplaces:3;Roof:Asphalt/Fibergl...        SF   \n",
       "3  Basement:Yes;Fireplaces:3;Roof:--;Floor:--;App...        SF   \n",
       "4  Basement:Yes;Fireplaces:1;Roof:Asphalt/Fibergl...        SF   \n",
       "\n",
       "       STREETNAME  HOUSENUM1  HOUSENUM2  \\\n",
       "0         Pine St         16         16   \n",
       "1    Cherry Drive         80         80   \n",
       "2  Monadnock Road         80         80   \n",
       "3  Trevino Circle         15         15   \n",
       "4  Maple Ridge Rd         53         53   \n",
       "\n",
       "                                          PHOTOURL  \n",
       "0  http://media.mlspin.com/photo.aspx?mls=72049670  \n",
       "1  http://media.mlspin.com/photo.aspx?mls=72056522  \n",
       "2  http://media.mlspin.com/photo.aspx?mls=72080286  \n",
       "3  http://media.mlspin.com/photo.aspx?mls=72118879  \n",
       "4  http://media.mlspin.com/photo.aspx?mls=72124101  \n",
       "\n",
       "[5 rows x 38 columns]"
      ]
     },
     "execution_count": 2,
     "metadata": {},
     "output_type": "execute_result"
    }
   ],
   "source": [
    "# Read in data with pandas\n",
    "\n",
    "data = pd.read_csv('./data/Boston_March2018.csv')\n",
    "\n",
    "# Preview\n",
    "\n",
    "data.head()"
   ]
  },
  {
   "cell_type": "code",
   "execution_count": 3,
   "metadata": {
    "pycharm": {
     "name": "#%%\n"
    }
   },
   "outputs": [
    {
     "data": {
      "text/html": [
       "<div>\n",
       "<style scoped>\n",
       "    .dataframe tbody tr th:only-of-type {\n",
       "        vertical-align: middle;\n",
       "    }\n",
       "\n",
       "    .dataframe tbody tr th {\n",
       "        vertical-align: top;\n",
       "    }\n",
       "\n",
       "    .dataframe thead th {\n",
       "        text-align: right;\n",
       "    }\n",
       "</style>\n",
       "<table border=\"1\" class=\"dataframe\">\n",
       "  <thead>\n",
       "    <tr style=\"text-align: right;\">\n",
       "      <th></th>\n",
       "      <th>MLSNUM</th>\n",
       "      <th>STATUS</th>\n",
       "      <th>LISTPRICE</th>\n",
       "      <th>SOLDPRICE</th>\n",
       "      <th>LISTDATE</th>\n",
       "      <th>SOLDDATE</th>\n",
       "      <th>EXPIREDDATE</th>\n",
       "      <th>DOM</th>\n",
       "      <th>DTO</th>\n",
       "      <th>ADDRESS</th>\n",
       "      <th>...</th>\n",
       "      <th>COOLING</th>\n",
       "      <th>ELEMENTARYSCHOOL</th>\n",
       "      <th>JUNIORHIGHSCHOOL</th>\n",
       "      <th>HIGHSCHOOL</th>\n",
       "      <th>OTHERFEATURES</th>\n",
       "      <th>PROPTYPE</th>\n",
       "      <th>STREETNAME</th>\n",
       "      <th>HOUSENUM1</th>\n",
       "      <th>HOUSENUM2</th>\n",
       "      <th>PHOTOURL</th>\n",
       "    </tr>\n",
       "  </thead>\n",
       "  <tbody>\n",
       "    <tr>\n",
       "      <th>100</th>\n",
       "      <td>72253657</td>\n",
       "      <td>SLD</td>\n",
       "      <td>539000.0</td>\n",
       "      <td>530000.0</td>\n",
       "      <td>11/9/2017</td>\n",
       "      <td>3/1/2018</td>\n",
       "      <td>NaN</td>\n",
       "      <td>97</td>\n",
       "      <td>33</td>\n",
       "      <td>304 Neponset</td>\n",
       "      <td>...</td>\n",
       "      <td>NaN</td>\n",
       "      <td>NaN</td>\n",
       "      <td>NaN</td>\n",
       "      <td>NaN</td>\n",
       "      <td>Basement:Yes;Fireplaces:0;Roof:--;Floor:Hardwo...</td>\n",
       "      <td>CC</td>\n",
       "      <td>Neponset</td>\n",
       "      <td>304</td>\n",
       "      <td>304</td>\n",
       "      <td>http://media.mlspin.com/photo.aspx?mls=72253657</td>\n",
       "    </tr>\n",
       "    <tr>\n",
       "      <th>101</th>\n",
       "      <td>72255734</td>\n",
       "      <td>SLD</td>\n",
       "      <td>829000.0</td>\n",
       "      <td>787500.0</td>\n",
       "      <td>11/15/2017</td>\n",
       "      <td>3/1/2018</td>\n",
       "      <td>NaN</td>\n",
       "      <td>20</td>\n",
       "      <td>5</td>\n",
       "      <td>73 Thaxter St</td>\n",
       "      <td>...</td>\n",
       "      <td>NaN</td>\n",
       "      <td>Foster</td>\n",
       "      <td>Hingham Middle</td>\n",
       "      <td>Hingham High</td>\n",
       "      <td>Basement:Yes;Fireplaces:2;Roof:Asphalt/Fibergl...</td>\n",
       "      <td>SF</td>\n",
       "      <td>Thaxter St</td>\n",
       "      <td>73</td>\n",
       "      <td>73</td>\n",
       "      <td>http://media.mlspin.com/photo.aspx?mls=72255734</td>\n",
       "    </tr>\n",
       "    <tr>\n",
       "      <th>102</th>\n",
       "      <td>72255735</td>\n",
       "      <td>SLD</td>\n",
       "      <td>1799000.0</td>\n",
       "      <td>1734300.0</td>\n",
       "      <td>11/15/2017</td>\n",
       "      <td>3/1/2018</td>\n",
       "      <td>NaN</td>\n",
       "      <td>71</td>\n",
       "      <td>71</td>\n",
       "      <td>15 Dix Street Unit 2</td>\n",
       "      <td>...</td>\n",
       "      <td>NaN</td>\n",
       "      <td>NaN</td>\n",
       "      <td>NaN</td>\n",
       "      <td>NaN</td>\n",
       "      <td>Basement:No;Fireplaces:1;Roof:Asphalt/Fibergla...</td>\n",
       "      <td>CC</td>\n",
       "      <td>Dix Street Unit 2</td>\n",
       "      <td>15</td>\n",
       "      <td>15</td>\n",
       "      <td>http://media.mlspin.com/photo.aspx?mls=72255735</td>\n",
       "    </tr>\n",
       "    <tr>\n",
       "      <th>103</th>\n",
       "      <td>72255807</td>\n",
       "      <td>SLD</td>\n",
       "      <td>749000.0</td>\n",
       "      <td>780000.0</td>\n",
       "      <td>11/15/2017</td>\n",
       "      <td>3/1/2018</td>\n",
       "      <td>NaN</td>\n",
       "      <td>21</td>\n",
       "      <td>6</td>\n",
       "      <td>30 Spring Lane</td>\n",
       "      <td>...</td>\n",
       "      <td>NaN</td>\n",
       "      <td>Downey</td>\n",
       "      <td>Thurston</td>\n",
       "      <td>WHS</td>\n",
       "      <td>Basement:Yes;Fireplaces:2;Roof:Asphalt/Fibergl...</td>\n",
       "      <td>SF</td>\n",
       "      <td>Spring Lane</td>\n",
       "      <td>30</td>\n",
       "      <td>30</td>\n",
       "      <td>http://media.mlspin.com/photo.aspx?mls=72255807</td>\n",
       "    </tr>\n",
       "    <tr>\n",
       "      <th>104</th>\n",
       "      <td>72256216</td>\n",
       "      <td>SLD</td>\n",
       "      <td>619900.0</td>\n",
       "      <td>615000.0</td>\n",
       "      <td>11/16/2017</td>\n",
       "      <td>3/1/2018</td>\n",
       "      <td>NaN</td>\n",
       "      <td>32</td>\n",
       "      <td>20</td>\n",
       "      <td>73 CIRCLE DRIVE</td>\n",
       "      <td>...</td>\n",
       "      <td>NaN</td>\n",
       "      <td>Northeast</td>\n",
       "      <td>Kennedy</td>\n",
       "      <td>Waltham</td>\n",
       "      <td>Basement:Yes;Fireplaces:1;Roof:Asphalt/Fibergl...</td>\n",
       "      <td>SF</td>\n",
       "      <td>CIRCLE DRIVE</td>\n",
       "      <td>73</td>\n",
       "      <td>73</td>\n",
       "      <td>http://media.mlspin.com/photo.aspx?mls=72256216</td>\n",
       "    </tr>\n",
       "  </tbody>\n",
       "</table>\n",
       "<p>5 rows × 38 columns</p>\n",
       "</div>"
      ],
      "text/plain": [
       "       MLSNUM STATUS  LISTPRICE  SOLDPRICE    LISTDATE  SOLDDATE  EXPIREDDATE  \\\n",
       "100  72253657    SLD   539000.0   530000.0   11/9/2017  3/1/2018          NaN   \n",
       "101  72255734    SLD   829000.0   787500.0  11/15/2017  3/1/2018          NaN   \n",
       "102  72255735    SLD  1799000.0  1734300.0  11/15/2017  3/1/2018          NaN   \n",
       "103  72255807    SLD   749000.0   780000.0  11/15/2017  3/1/2018          NaN   \n",
       "104  72256216    SLD   619900.0   615000.0  11/16/2017  3/1/2018          NaN   \n",
       "\n",
       "     DOM  DTO               ADDRESS  ... COOLING ELEMENTARYSCHOOL  \\\n",
       "100   97   33          304 Neponset  ...     NaN              NaN   \n",
       "101   20    5         73 Thaxter St  ...     NaN           Foster   \n",
       "102   71   71  15 Dix Street Unit 2  ...     NaN              NaN   \n",
       "103   21    6        30 Spring Lane  ...     NaN           Downey   \n",
       "104   32   20       73 CIRCLE DRIVE  ...     NaN        Northeast   \n",
       "\n",
       "     JUNIORHIGHSCHOOL    HIGHSCHOOL  \\\n",
       "100               NaN           NaN   \n",
       "101    Hingham Middle  Hingham High   \n",
       "102               NaN           NaN   \n",
       "103          Thurston           WHS   \n",
       "104           Kennedy       Waltham   \n",
       "\n",
       "                                         OTHERFEATURES  PROPTYPE  \\\n",
       "100  Basement:Yes;Fireplaces:0;Roof:--;Floor:Hardwo...        CC   \n",
       "101  Basement:Yes;Fireplaces:2;Roof:Asphalt/Fibergl...        SF   \n",
       "102  Basement:No;Fireplaces:1;Roof:Asphalt/Fibergla...        CC   \n",
       "103  Basement:Yes;Fireplaces:2;Roof:Asphalt/Fibergl...        SF   \n",
       "104  Basement:Yes;Fireplaces:1;Roof:Asphalt/Fibergl...        SF   \n",
       "\n",
       "            STREETNAME  HOUSENUM1  HOUSENUM2  \\\n",
       "100           Neponset        304        304   \n",
       "101         Thaxter St         73         73   \n",
       "102  Dix Street Unit 2         15         15   \n",
       "103        Spring Lane         30         30   \n",
       "104       CIRCLE DRIVE         73         73   \n",
       "\n",
       "                                            PHOTOURL  \n",
       "100  http://media.mlspin.com/photo.aspx?mls=72253657  \n",
       "101  http://media.mlspin.com/photo.aspx?mls=72255734  \n",
       "102  http://media.mlspin.com/photo.aspx?mls=72255735  \n",
       "103  http://media.mlspin.com/photo.aspx?mls=72255807  \n",
       "104  http://media.mlspin.com/photo.aspx?mls=72256216  \n",
       "\n",
       "[5 rows x 38 columns]"
      ]
     },
     "execution_count": 3,
     "metadata": {},
     "output_type": "execute_result"
    }
   ],
   "source": [
    "# View from another angle\n",
    "\n",
    "data.iloc[100:].head()"
   ]
  },
  {
   "cell_type": "markdown",
   "metadata": {},
   "source": [
    "### 2. Explore the data"
   ]
  },
  {
   "cell_type": "code",
   "execution_count": 4,
   "metadata": {
    "pycharm": {
     "name": "#%%\n"
    }
   },
   "outputs": [
    {
     "data": {
      "text/html": [
       "<div>\n",
       "<style scoped>\n",
       "    .dataframe tbody tr th:only-of-type {\n",
       "        vertical-align: middle;\n",
       "    }\n",
       "\n",
       "    .dataframe tbody tr th {\n",
       "        vertical-align: top;\n",
       "    }\n",
       "\n",
       "    .dataframe thead th {\n",
       "        text-align: right;\n",
       "    }\n",
       "</style>\n",
       "<table border=\"1\" class=\"dataframe\">\n",
       "  <thead>\n",
       "    <tr style=\"text-align: right;\">\n",
       "      <th></th>\n",
       "      <th>LISTPRICE</th>\n",
       "      <th>SOLDPRICE</th>\n",
       "    </tr>\n",
       "  </thead>\n",
       "  <tbody>\n",
       "    <tr>\n",
       "      <th>0</th>\n",
       "      <td>239900.0</td>\n",
       "      <td>247000.0</td>\n",
       "    </tr>\n",
       "    <tr>\n",
       "      <th>1</th>\n",
       "      <td>338000.0</td>\n",
       "      <td>338000.0</td>\n",
       "    </tr>\n",
       "    <tr>\n",
       "      <th>2</th>\n",
       "      <td>2999999.0</td>\n",
       "      <td>2950000.0</td>\n",
       "    </tr>\n",
       "    <tr>\n",
       "      <th>3</th>\n",
       "      <td>2600000.0</td>\n",
       "      <td>2600000.0</td>\n",
       "    </tr>\n",
       "    <tr>\n",
       "      <th>4</th>\n",
       "      <td>525000.0</td>\n",
       "      <td>525000.0</td>\n",
       "    </tr>\n",
       "  </tbody>\n",
       "</table>\n",
       "</div>"
      ],
      "text/plain": [
       "   LISTPRICE  SOLDPRICE\n",
       "0   239900.0   247000.0\n",
       "1   338000.0   338000.0\n",
       "2  2999999.0  2950000.0\n",
       "3  2600000.0  2600000.0\n",
       "4   525000.0   525000.0"
      ]
     },
     "execution_count": 4,
     "metadata": {},
     "output_type": "execute_result"
    }
   ],
   "source": [
    "# Narrow the view\n",
    "\n",
    "prices = ['LISTPRICE', 'SOLDPRICE']\n",
    "data[prices].head()"
   ]
  },
  {
   "cell_type": "code",
   "execution_count": 5,
   "metadata": {
    "pycharm": {
     "name": "#%%\n"
    }
   },
   "outputs": [
    {
     "name": "stdout",
     "output_type": "stream",
     "text": [
      "LISTPRICE    2.486085e+09\n",
      "SOLDPRICE    2.464492e+09\n",
      "dtype: float64\n",
      "LISTPRICE    480774.491561\n",
      "SOLDPRICE    476598.774637\n",
      "dtype: float64\n"
     ]
    }
   ],
   "source": [
    "# !YOUR TURN!\n",
    "# Look at sum\n",
    "print(data[prices].sum())\n",
    "\n",
    "# Look at mean\n",
    "print(data[prices].mean())"
   ]
  },
  {
   "cell_type": "code",
   "execution_count": 6,
   "metadata": {
    "pycharm": {
     "name": "#%%\n"
    }
   },
   "outputs": [
    {
     "data": {
      "text/plain": [
       "array(['MF', 'CC', 'SF'], dtype=object)"
      ]
     },
     "execution_count": 6,
     "metadata": {},
     "output_type": "execute_result"
    }
   ],
   "source": [
    "# Let's take a look at the property types\n",
    "\n",
    "proptypes = data.PROPTYPE.unique()\n",
    "proptypes"
   ]
  },
  {
   "cell_type": "code",
   "execution_count": 7,
   "metadata": {
    "pycharm": {
     "name": "#%%\n"
    }
   },
   "outputs": [
    {
     "data": {
      "text/html": [
       "<div>\n",
       "<style scoped>\n",
       "    .dataframe tbody tr th:only-of-type {\n",
       "        vertical-align: middle;\n",
       "    }\n",
       "\n",
       "    .dataframe tbody tr th {\n",
       "        vertical-align: top;\n",
       "    }\n",
       "\n",
       "    .dataframe thead th {\n",
       "        text-align: right;\n",
       "    }\n",
       "</style>\n",
       "<table border=\"1\" class=\"dataframe\">\n",
       "  <thead>\n",
       "    <tr style=\"text-align: right;\">\n",
       "      <th></th>\n",
       "      <th>MLSNUM</th>\n",
       "      <th>STATUS</th>\n",
       "      <th>LISTPRICE</th>\n",
       "      <th>SOLDPRICE</th>\n",
       "      <th>LISTDATE</th>\n",
       "      <th>SOLDDATE</th>\n",
       "      <th>EXPIREDDATE</th>\n",
       "      <th>DOM</th>\n",
       "      <th>DTO</th>\n",
       "      <th>ADDRESS</th>\n",
       "      <th>...</th>\n",
       "      <th>COOLING</th>\n",
       "      <th>ELEMENTARYSCHOOL</th>\n",
       "      <th>JUNIORHIGHSCHOOL</th>\n",
       "      <th>HIGHSCHOOL</th>\n",
       "      <th>OTHERFEATURES</th>\n",
       "      <th>PROPTYPE</th>\n",
       "      <th>STREETNAME</th>\n",
       "      <th>HOUSENUM1</th>\n",
       "      <th>HOUSENUM2</th>\n",
       "      <th>PHOTOURL</th>\n",
       "    </tr>\n",
       "  </thead>\n",
       "  <tbody>\n",
       "    <tr>\n",
       "      <th>1</th>\n",
       "      <td>72056522</td>\n",
       "      <td>SLD</td>\n",
       "      <td>338000.0</td>\n",
       "      <td>338000.0</td>\n",
       "      <td>8/22/2016</td>\n",
       "      <td>3/1/2018</td>\n",
       "      <td>NaN</td>\n",
       "      <td>545</td>\n",
       "      <td>515</td>\n",
       "      <td>80 Cherry Drive</td>\n",
       "      <td>...</td>\n",
       "      <td>NaN</td>\n",
       "      <td>NaN</td>\n",
       "      <td>NaN</td>\n",
       "      <td>NaN</td>\n",
       "      <td>Basement:Yes;Fireplaces:1;Roof:Asphalt/Fibergl...</td>\n",
       "      <td>CC</td>\n",
       "      <td>Cherry Drive</td>\n",
       "      <td>80</td>\n",
       "      <td>80</td>\n",
       "      <td>http://media.mlspin.com/photo.aspx?mls=72056522</td>\n",
       "    </tr>\n",
       "    <tr>\n",
       "      <th>21</th>\n",
       "      <td>72198564</td>\n",
       "      <td>SLD</td>\n",
       "      <td>619900.0</td>\n",
       "      <td>619900.0</td>\n",
       "      <td>6/1/2017</td>\n",
       "      <td>3/1/2018</td>\n",
       "      <td>NaN</td>\n",
       "      <td>48</td>\n",
       "      <td>44</td>\n",
       "      <td>16 Kendrick Way</td>\n",
       "      <td>...</td>\n",
       "      <td>NaN</td>\n",
       "      <td>NaN</td>\n",
       "      <td>NaN</td>\n",
       "      <td>NaN</td>\n",
       "      <td>Basement:Yes;Fireplaces:1;Roof:Asphalt/Fibergl...</td>\n",
       "      <td>CC</td>\n",
       "      <td>Kendrick Way</td>\n",
       "      <td>16</td>\n",
       "      <td>16</td>\n",
       "      <td>http://media.mlspin.com/photo.aspx?mls=72198564</td>\n",
       "    </tr>\n",
       "    <tr>\n",
       "      <th>22</th>\n",
       "      <td>72198880</td>\n",
       "      <td>SLD</td>\n",
       "      <td>119900.0</td>\n",
       "      <td>110000.0</td>\n",
       "      <td>7/17/2017</td>\n",
       "      <td>3/1/2018</td>\n",
       "      <td>NaN</td>\n",
       "      <td>137</td>\n",
       "      <td>118</td>\n",
       "      <td>125 Vernon St</td>\n",
       "      <td>...</td>\n",
       "      <td>NaN</td>\n",
       "      <td>NaN</td>\n",
       "      <td>NaN</td>\n",
       "      <td>NaN</td>\n",
       "      <td>Basement:No;Fireplaces:1;Roof:--;Floor:Wood;Ap...</td>\n",
       "      <td>CC</td>\n",
       "      <td>Vernon St</td>\n",
       "      <td>125</td>\n",
       "      <td>125</td>\n",
       "      <td>http://media.mlspin.com/photo.aspx?mls=72198880</td>\n",
       "    </tr>\n",
       "    <tr>\n",
       "      <th>26</th>\n",
       "      <td>72204760</td>\n",
       "      <td>SLD</td>\n",
       "      <td>949900.0</td>\n",
       "      <td>930000.0</td>\n",
       "      <td>7/27/2017</td>\n",
       "      <td>3/1/2018</td>\n",
       "      <td>NaN</td>\n",
       "      <td>105</td>\n",
       "      <td>105</td>\n",
       "      <td>87 Church Street</td>\n",
       "      <td>...</td>\n",
       "      <td>NaN</td>\n",
       "      <td>NaN</td>\n",
       "      <td>NaN</td>\n",
       "      <td>NaN</td>\n",
       "      <td>Basement:Yes;Fireplaces:1;Roof:--;Floor:Wood, ...</td>\n",
       "      <td>CC</td>\n",
       "      <td>Church Street</td>\n",
       "      <td>87</td>\n",
       "      <td>87</td>\n",
       "      <td>http://media.mlspin.com/photo.aspx?mls=72204760</td>\n",
       "    </tr>\n",
       "    <tr>\n",
       "      <th>27</th>\n",
       "      <td>72207032</td>\n",
       "      <td>SLD</td>\n",
       "      <td>411000.0</td>\n",
       "      <td>411000.0</td>\n",
       "      <td>8/1/2017</td>\n",
       "      <td>3/1/2018</td>\n",
       "      <td>NaN</td>\n",
       "      <td>68</td>\n",
       "      <td>54</td>\n",
       "      <td>70 Endicott Street</td>\n",
       "      <td>...</td>\n",
       "      <td>NaN</td>\n",
       "      <td>NaN</td>\n",
       "      <td>NaN</td>\n",
       "      <td>NaN</td>\n",
       "      <td>Basement:No;Fireplaces:0;Roof:Asphalt/Fibergla...</td>\n",
       "      <td>CC</td>\n",
       "      <td>Endicott Street</td>\n",
       "      <td>70</td>\n",
       "      <td>70</td>\n",
       "      <td>http://media.mlspin.com/photo.aspx?mls=72207032</td>\n",
       "    </tr>\n",
       "    <tr>\n",
       "      <th>...</th>\n",
       "      <td>...</td>\n",
       "      <td>...</td>\n",
       "      <td>...</td>\n",
       "      <td>...</td>\n",
       "      <td>...</td>\n",
       "      <td>...</td>\n",
       "      <td>...</td>\n",
       "      <td>...</td>\n",
       "      <td>...</td>\n",
       "      <td>...</td>\n",
       "      <td>...</td>\n",
       "      <td>...</td>\n",
       "      <td>...</td>\n",
       "      <td>...</td>\n",
       "      <td>...</td>\n",
       "      <td>...</td>\n",
       "      <td>...</td>\n",
       "      <td>...</td>\n",
       "      <td>...</td>\n",
       "      <td>...</td>\n",
       "      <td>...</td>\n",
       "    </tr>\n",
       "    <tr>\n",
       "      <th>5147</th>\n",
       "      <td>72289323</td>\n",
       "      <td>SLD</td>\n",
       "      <td>209900.0</td>\n",
       "      <td>212000.0</td>\n",
       "      <td>3/5/2018</td>\n",
       "      <td>3/29/2018</td>\n",
       "      <td>NaN</td>\n",
       "      <td>2</td>\n",
       "      <td>2</td>\n",
       "      <td>573 Broad St</td>\n",
       "      <td>...</td>\n",
       "      <td>NaN</td>\n",
       "      <td>NaN</td>\n",
       "      <td>NaN</td>\n",
       "      <td>NaN</td>\n",
       "      <td>Basement:No;Fireplaces:0;Roof:--;Floor:Laminat...</td>\n",
       "      <td>CC</td>\n",
       "      <td>Broad St</td>\n",
       "      <td>573</td>\n",
       "      <td>573</td>\n",
       "      <td>http://media.mlspin.com/photo.aspx?mls=72289323</td>\n",
       "    </tr>\n",
       "    <tr>\n",
       "      <th>5153</th>\n",
       "      <td>72290266</td>\n",
       "      <td>SLD</td>\n",
       "      <td>185000.0</td>\n",
       "      <td>190000.0</td>\n",
       "      <td>3/7/2018</td>\n",
       "      <td>3/30/2018</td>\n",
       "      <td>NaN</td>\n",
       "      <td>4</td>\n",
       "      <td>4</td>\n",
       "      <td>53 McCormick Ter.</td>\n",
       "      <td>...</td>\n",
       "      <td>NaN</td>\n",
       "      <td>West Elem.</td>\n",
       "      <td>ODonnell</td>\n",
       "      <td>Stoughton H. S.</td>\n",
       "      <td>Basement:No;Fireplaces:0;Roof:--;Floor:Tile, W...</td>\n",
       "      <td>CC</td>\n",
       "      <td>McCormick Ter.</td>\n",
       "      <td>53</td>\n",
       "      <td>53</td>\n",
       "      <td>http://media.mlspin.com/photo.aspx?mls=72290266</td>\n",
       "    </tr>\n",
       "    <tr>\n",
       "      <th>5154</th>\n",
       "      <td>72290841</td>\n",
       "      <td>SLD</td>\n",
       "      <td>165000.0</td>\n",
       "      <td>166000.0</td>\n",
       "      <td>3/8/2018</td>\n",
       "      <td>3/30/2018</td>\n",
       "      <td>NaN</td>\n",
       "      <td>11</td>\n",
       "      <td>4</td>\n",
       "      <td>53 Fountain Ln</td>\n",
       "      <td>...</td>\n",
       "      <td>NaN</td>\n",
       "      <td>Hamilton</td>\n",
       "      <td>Chapman</td>\n",
       "      <td>Weymouth High</td>\n",
       "      <td>Basement:Yes;Fireplaces:0;Roof:Asphalt/Fibergl...</td>\n",
       "      <td>CC</td>\n",
       "      <td>Fountain Ln</td>\n",
       "      <td>53</td>\n",
       "      <td>53</td>\n",
       "      <td>http://media.mlspin.com/photo.aspx?mls=72290841</td>\n",
       "    </tr>\n",
       "    <tr>\n",
       "      <th>5157</th>\n",
       "      <td>72291391</td>\n",
       "      <td>SLD</td>\n",
       "      <td>399900.0</td>\n",
       "      <td>413000.0</td>\n",
       "      <td>3/9/2018</td>\n",
       "      <td>3/29/2018</td>\n",
       "      <td>NaN</td>\n",
       "      <td>11</td>\n",
       "      <td>2</td>\n",
       "      <td>16 Olde Ipswich Way</td>\n",
       "      <td>...</td>\n",
       "      <td>NaN</td>\n",
       "      <td>NaN</td>\n",
       "      <td>IMS</td>\n",
       "      <td>IHS</td>\n",
       "      <td>Basement:No;Fireplaces:1;Roof:Asphalt/Fibergla...</td>\n",
       "      <td>CC</td>\n",
       "      <td>Olde Ipswich Way</td>\n",
       "      <td>16</td>\n",
       "      <td>16</td>\n",
       "      <td>http://media.mlspin.com/photo.aspx?mls=72291391</td>\n",
       "    </tr>\n",
       "    <tr>\n",
       "      <th>5161</th>\n",
       "      <td>72291874</td>\n",
       "      <td>SLD</td>\n",
       "      <td>759000.0</td>\n",
       "      <td>759000.0</td>\n",
       "      <td>3/10/2018</td>\n",
       "      <td>3/29/2018</td>\n",
       "      <td>NaN</td>\n",
       "      <td>7</td>\n",
       "      <td>6</td>\n",
       "      <td>99 Tremont Street</td>\n",
       "      <td>...</td>\n",
       "      <td>NaN</td>\n",
       "      <td>NaN</td>\n",
       "      <td>NaN</td>\n",
       "      <td>NaN</td>\n",
       "      <td>Basement:No;Fireplaces:0;Roof:--;Floor:--;Appl...</td>\n",
       "      <td>CC</td>\n",
       "      <td>Tremont Street</td>\n",
       "      <td>99</td>\n",
       "      <td>99</td>\n",
       "      <td>http://media.mlspin.com/photo.aspx?mls=72291874</td>\n",
       "    </tr>\n",
       "  </tbody>\n",
       "</table>\n",
       "<p>1434 rows × 38 columns</p>\n",
       "</div>"
      ],
      "text/plain": [
       "        MLSNUM STATUS  LISTPRICE  SOLDPRICE   LISTDATE   SOLDDATE  \\\n",
       "1     72056522    SLD   338000.0   338000.0  8/22/2016   3/1/2018   \n",
       "21    72198564    SLD   619900.0   619900.0   6/1/2017   3/1/2018   \n",
       "22    72198880    SLD   119900.0   110000.0  7/17/2017   3/1/2018   \n",
       "26    72204760    SLD   949900.0   930000.0  7/27/2017   3/1/2018   \n",
       "27    72207032    SLD   411000.0   411000.0   8/1/2017   3/1/2018   \n",
       "...        ...    ...        ...        ...        ...        ...   \n",
       "5147  72289323    SLD   209900.0   212000.0   3/5/2018  3/29/2018   \n",
       "5153  72290266    SLD   185000.0   190000.0   3/7/2018  3/30/2018   \n",
       "5154  72290841    SLD   165000.0   166000.0   3/8/2018  3/30/2018   \n",
       "5157  72291391    SLD   399900.0   413000.0   3/9/2018  3/29/2018   \n",
       "5161  72291874    SLD   759000.0   759000.0  3/10/2018  3/29/2018   \n",
       "\n",
       "      EXPIREDDATE  DOM  DTO              ADDRESS  ... COOLING  \\\n",
       "1             NaN  545  515      80 Cherry Drive  ...     NaN   \n",
       "21            NaN   48   44      16 Kendrick Way  ...     NaN   \n",
       "22            NaN  137  118        125 Vernon St  ...     NaN   \n",
       "26            NaN  105  105     87 Church Street  ...     NaN   \n",
       "27            NaN   68   54   70 Endicott Street  ...     NaN   \n",
       "...           ...  ...  ...                  ...  ...     ...   \n",
       "5147          NaN    2    2         573 Broad St  ...     NaN   \n",
       "5153          NaN    4    4    53 McCormick Ter.  ...     NaN   \n",
       "5154          NaN   11    4       53 Fountain Ln  ...     NaN   \n",
       "5157          NaN   11    2  16 Olde Ipswich Way  ...     NaN   \n",
       "5161          NaN    7    6    99 Tremont Street  ...     NaN   \n",
       "\n",
       "     ELEMENTARYSCHOOL  JUNIORHIGHSCHOOL       HIGHSCHOOL  \\\n",
       "1                 NaN               NaN              NaN   \n",
       "21                NaN               NaN              NaN   \n",
       "22                NaN               NaN              NaN   \n",
       "26                NaN               NaN              NaN   \n",
       "27                NaN               NaN              NaN   \n",
       "...               ...               ...              ...   \n",
       "5147              NaN               NaN              NaN   \n",
       "5153       West Elem.          ODonnell  Stoughton H. S.   \n",
       "5154         Hamilton           Chapman    Weymouth High   \n",
       "5157              NaN               IMS              IHS   \n",
       "5161              NaN               NaN              NaN   \n",
       "\n",
       "                                          OTHERFEATURES  PROPTYPE  \\\n",
       "1     Basement:Yes;Fireplaces:1;Roof:Asphalt/Fibergl...        CC   \n",
       "21    Basement:Yes;Fireplaces:1;Roof:Asphalt/Fibergl...        CC   \n",
       "22    Basement:No;Fireplaces:1;Roof:--;Floor:Wood;Ap...        CC   \n",
       "26    Basement:Yes;Fireplaces:1;Roof:--;Floor:Wood, ...        CC   \n",
       "27    Basement:No;Fireplaces:0;Roof:Asphalt/Fibergla...        CC   \n",
       "...                                                 ...       ...   \n",
       "5147  Basement:No;Fireplaces:0;Roof:--;Floor:Laminat...        CC   \n",
       "5153  Basement:No;Fireplaces:0;Roof:--;Floor:Tile, W...        CC   \n",
       "5154  Basement:Yes;Fireplaces:0;Roof:Asphalt/Fibergl...        CC   \n",
       "5157  Basement:No;Fireplaces:1;Roof:Asphalt/Fibergla...        CC   \n",
       "5161  Basement:No;Fireplaces:0;Roof:--;Floor:--;Appl...        CC   \n",
       "\n",
       "            STREETNAME  HOUSENUM1  HOUSENUM2  \\\n",
       "1         Cherry Drive         80         80   \n",
       "21        Kendrick Way         16         16   \n",
       "22           Vernon St        125        125   \n",
       "26       Church Street         87         87   \n",
       "27     Endicott Street         70         70   \n",
       "...                ...        ...        ...   \n",
       "5147          Broad St        573        573   \n",
       "5153    McCormick Ter.         53         53   \n",
       "5154       Fountain Ln         53         53   \n",
       "5157  Olde Ipswich Way         16         16   \n",
       "5161    Tremont Street         99         99   \n",
       "\n",
       "                                             PHOTOURL  \n",
       "1     http://media.mlspin.com/photo.aspx?mls=72056522  \n",
       "21    http://media.mlspin.com/photo.aspx?mls=72198564  \n",
       "22    http://media.mlspin.com/photo.aspx?mls=72198880  \n",
       "26    http://media.mlspin.com/photo.aspx?mls=72204760  \n",
       "27    http://media.mlspin.com/photo.aspx?mls=72207032  \n",
       "...                                               ...  \n",
       "5147  http://media.mlspin.com/photo.aspx?mls=72289323  \n",
       "5153  http://media.mlspin.com/photo.aspx?mls=72290266  \n",
       "5154  http://media.mlspin.com/photo.aspx?mls=72290841  \n",
       "5157  http://media.mlspin.com/photo.aspx?mls=72291391  \n",
       "5161  http://media.mlspin.com/photo.aspx?mls=72291874  \n",
       "\n",
       "[1434 rows x 38 columns]"
      ]
     },
     "execution_count": 7,
     "metadata": {},
     "output_type": "execute_result"
    }
   ],
   "source": [
    "# Tinker around with some filtering options\n",
    "\n",
    "data[((data.SOLDPRICE < 1000000) | (data.SOLDDATE > \"3/10/2018\")) & (data.PROPTYPE == \"CC\")]"
   ]
  },
  {
   "cell_type": "code",
   "execution_count": 8,
   "metadata": {
    "pycharm": {
     "name": "#%%\n"
    }
   },
   "outputs": [
    {
     "data": {
      "text/html": [
       "<div>\n",
       "<style scoped>\n",
       "    .dataframe tbody tr th:only-of-type {\n",
       "        vertical-align: middle;\n",
       "    }\n",
       "\n",
       "    .dataframe tbody tr th {\n",
       "        vertical-align: top;\n",
       "    }\n",
       "\n",
       "    .dataframe thead th {\n",
       "        text-align: right;\n",
       "    }\n",
       "</style>\n",
       "<table border=\"1\" class=\"dataframe\">\n",
       "  <thead>\n",
       "    <tr style=\"text-align: right;\">\n",
       "      <th></th>\n",
       "      <th>MLSNUM</th>\n",
       "      <th>LISTPRICE</th>\n",
       "      <th>SOLDPRICE</th>\n",
       "      <th>EXPIREDDATE</th>\n",
       "      <th>DOM</th>\n",
       "      <th>DTO</th>\n",
       "      <th>ZIP</th>\n",
       "      <th>BEDS</th>\n",
       "      <th>BATHS</th>\n",
       "      <th>SQFT</th>\n",
       "      <th>AGE</th>\n",
       "      <th>LOTSIZE</th>\n",
       "      <th>GARAGE</th>\n",
       "      <th>COOLING</th>\n",
       "    </tr>\n",
       "  </thead>\n",
       "  <tbody>\n",
       "    <tr>\n",
       "      <th>count</th>\n",
       "      <td>5.171000e+03</td>\n",
       "      <td>5.171000e+03</td>\n",
       "      <td>5.171000e+03</td>\n",
       "      <td>0.0</td>\n",
       "      <td>5171.000000</td>\n",
       "      <td>5171.000000</td>\n",
       "      <td>5171.000000</td>\n",
       "      <td>5171.000000</td>\n",
       "      <td>5171.000000</td>\n",
       "      <td>5171.000000</td>\n",
       "      <td>5171.000000</td>\n",
       "      <td>4.064000e+03</td>\n",
       "      <td>5171.000000</td>\n",
       "      <td>0.0</td>\n",
       "    </tr>\n",
       "    <tr>\n",
       "      <th>mean</th>\n",
       "      <td>7.225305e+07</td>\n",
       "      <td>4.807745e+05</td>\n",
       "      <td>4.765988e+05</td>\n",
       "      <td>NaN</td>\n",
       "      <td>69.591762</td>\n",
       "      <td>48.977374</td>\n",
       "      <td>2062.584220</td>\n",
       "      <td>3.253336</td>\n",
       "      <td>2.031038</td>\n",
       "      <td>1883.277703</td>\n",
       "      <td>62.156256</td>\n",
       "      <td>4.236467e+04</td>\n",
       "      <td>0.865597</td>\n",
       "      <td>NaN</td>\n",
       "    </tr>\n",
       "    <tr>\n",
       "      <th>std</th>\n",
       "      <td>4.473714e+04</td>\n",
       "      <td>4.945971e+05</td>\n",
       "      <td>5.016361e+05</td>\n",
       "      <td>NaN</td>\n",
       "      <td>92.763384</td>\n",
       "      <td>68.484702</td>\n",
       "      <td>1119.135051</td>\n",
       "      <td>1.604884</td>\n",
       "      <td>1.050722</td>\n",
       "      <td>1038.769455</td>\n",
       "      <td>54.095052</td>\n",
       "      <td>3.790374e+05</td>\n",
       "      <td>0.985542</td>\n",
       "      <td>NaN</td>\n",
       "    </tr>\n",
       "    <tr>\n",
       "      <th>min</th>\n",
       "      <td>7.115216e+07</td>\n",
       "      <td>1.990000e+04</td>\n",
       "      <td>2.300000e+04</td>\n",
       "      <td>NaN</td>\n",
       "      <td>0.000000</td>\n",
       "      <td>0.000000</td>\n",
       "      <td>101.000000</td>\n",
       "      <td>0.000000</td>\n",
       "      <td>0.000000</td>\n",
       "      <td>0.000000</td>\n",
       "      <td>0.000000</td>\n",
       "      <td>0.000000e+00</td>\n",
       "      <td>0.000000</td>\n",
       "      <td>NaN</td>\n",
       "    </tr>\n",
       "    <tr>\n",
       "      <th>25%</th>\n",
       "      <td>7.224754e+07</td>\n",
       "      <td>2.499000e+05</td>\n",
       "      <td>2.450000e+05</td>\n",
       "      <td>NaN</td>\n",
       "      <td>18.000000</td>\n",
       "      <td>6.000000</td>\n",
       "      <td>1747.000000</td>\n",
       "      <td>2.000000</td>\n",
       "      <td>1.500000</td>\n",
       "      <td>1191.000000</td>\n",
       "      <td>27.000000</td>\n",
       "      <td>6.000000e+03</td>\n",
       "      <td>0.000000</td>\n",
       "      <td>NaN</td>\n",
       "    </tr>\n",
       "    <tr>\n",
       "      <th>50%</th>\n",
       "      <td>7.226724e+07</td>\n",
       "      <td>3.748000e+05</td>\n",
       "      <td>3.700000e+05</td>\n",
       "      <td>NaN</td>\n",
       "      <td>35.000000</td>\n",
       "      <td>20.000000</td>\n",
       "      <td>2048.000000</td>\n",
       "      <td>3.000000</td>\n",
       "      <td>2.000000</td>\n",
       "      <td>1638.000000</td>\n",
       "      <td>54.000000</td>\n",
       "      <td>1.174600e+04</td>\n",
       "      <td>1.000000</td>\n",
       "      <td>NaN</td>\n",
       "    </tr>\n",
       "    <tr>\n",
       "      <th>75%</th>\n",
       "      <td>7.227533e+07</td>\n",
       "      <td>5.499000e+05</td>\n",
       "      <td>5.515000e+05</td>\n",
       "      <td>NaN</td>\n",
       "      <td>94.000000</td>\n",
       "      <td>73.000000</td>\n",
       "      <td>2360.000000</td>\n",
       "      <td>4.000000</td>\n",
       "      <td>2.500000</td>\n",
       "      <td>2300.000000</td>\n",
       "      <td>98.000000</td>\n",
       "      <td>2.570625e+04</td>\n",
       "      <td>2.000000</td>\n",
       "      <td>NaN</td>\n",
       "    </tr>\n",
       "    <tr>\n",
       "      <th>max</th>\n",
       "      <td>7.230167e+07</td>\n",
       "      <td>1.050000e+07</td>\n",
       "      <td>1.511000e+07</td>\n",
       "      <td>NaN</td>\n",
       "      <td>1562.000000</td>\n",
       "      <td>938.000000</td>\n",
       "      <td>34452.000000</td>\n",
       "      <td>32.000000</td>\n",
       "      <td>32.000000</td>\n",
       "      <td>11200.000000</td>\n",
       "      <td>1863.000000</td>\n",
       "      <td>1.868724e+07</td>\n",
       "      <td>9.000000</td>\n",
       "      <td>NaN</td>\n",
       "    </tr>\n",
       "  </tbody>\n",
       "</table>\n",
       "</div>"
      ],
      "text/plain": [
       "             MLSNUM     LISTPRICE     SOLDPRICE  EXPIREDDATE          DOM  \\\n",
       "count  5.171000e+03  5.171000e+03  5.171000e+03          0.0  5171.000000   \n",
       "mean   7.225305e+07  4.807745e+05  4.765988e+05          NaN    69.591762   \n",
       "std    4.473714e+04  4.945971e+05  5.016361e+05          NaN    92.763384   \n",
       "min    7.115216e+07  1.990000e+04  2.300000e+04          NaN     0.000000   \n",
       "25%    7.224754e+07  2.499000e+05  2.450000e+05          NaN    18.000000   \n",
       "50%    7.226724e+07  3.748000e+05  3.700000e+05          NaN    35.000000   \n",
       "75%    7.227533e+07  5.499000e+05  5.515000e+05          NaN    94.000000   \n",
       "max    7.230167e+07  1.050000e+07  1.511000e+07          NaN  1562.000000   \n",
       "\n",
       "               DTO           ZIP         BEDS        BATHS          SQFT  \\\n",
       "count  5171.000000   5171.000000  5171.000000  5171.000000   5171.000000   \n",
       "mean     48.977374   2062.584220     3.253336     2.031038   1883.277703   \n",
       "std      68.484702   1119.135051     1.604884     1.050722   1038.769455   \n",
       "min       0.000000    101.000000     0.000000     0.000000      0.000000   \n",
       "25%       6.000000   1747.000000     2.000000     1.500000   1191.000000   \n",
       "50%      20.000000   2048.000000     3.000000     2.000000   1638.000000   \n",
       "75%      73.000000   2360.000000     4.000000     2.500000   2300.000000   \n",
       "max     938.000000  34452.000000    32.000000    32.000000  11200.000000   \n",
       "\n",
       "               AGE       LOTSIZE       GARAGE  COOLING  \n",
       "count  5171.000000  4.064000e+03  5171.000000      0.0  \n",
       "mean     62.156256  4.236467e+04     0.865597      NaN  \n",
       "std      54.095052  3.790374e+05     0.985542      NaN  \n",
       "min       0.000000  0.000000e+00     0.000000      NaN  \n",
       "25%      27.000000  6.000000e+03     0.000000      NaN  \n",
       "50%      54.000000  1.174600e+04     1.000000      NaN  \n",
       "75%      98.000000  2.570625e+04     2.000000      NaN  \n",
       "max    1863.000000  1.868724e+07     9.000000      NaN  "
      ]
     },
     "execution_count": 8,
     "metadata": {},
     "output_type": "execute_result"
    }
   ],
   "source": [
    "# Look at everything\n",
    "\n",
    "data.describe()"
   ]
  },
  {
   "cell_type": "code",
   "execution_count": 9,
   "metadata": {
    "pycharm": {
     "name": "#%%\n"
    }
   },
   "outputs": [
    {
     "data": {
      "text/html": [
       "<div>\n",
       "<style scoped>\n",
       "    .dataframe tbody tr th:only-of-type {\n",
       "        vertical-align: middle;\n",
       "    }\n",
       "\n",
       "    .dataframe tbody tr th {\n",
       "        vertical-align: top;\n",
       "    }\n",
       "\n",
       "    .dataframe thead tr th {\n",
       "        text-align: left;\n",
       "    }\n",
       "\n",
       "    .dataframe thead tr:last-of-type th {\n",
       "        text-align: right;\n",
       "    }\n",
       "</style>\n",
       "<table border=\"1\" class=\"dataframe\">\n",
       "  <thead>\n",
       "    <tr>\n",
       "      <th></th>\n",
       "      <th colspan=\"8\" halign=\"left\">MLSNUM</th>\n",
       "      <th colspan=\"2\" halign=\"left\">LISTPRICE</th>\n",
       "      <th>...</th>\n",
       "      <th colspan=\"2\" halign=\"left\">GARAGE</th>\n",
       "      <th colspan=\"8\" halign=\"left\">COOLING</th>\n",
       "    </tr>\n",
       "    <tr>\n",
       "      <th></th>\n",
       "      <th>count</th>\n",
       "      <th>mean</th>\n",
       "      <th>std</th>\n",
       "      <th>min</th>\n",
       "      <th>25%</th>\n",
       "      <th>50%</th>\n",
       "      <th>75%</th>\n",
       "      <th>max</th>\n",
       "      <th>count</th>\n",
       "      <th>mean</th>\n",
       "      <th>...</th>\n",
       "      <th>75%</th>\n",
       "      <th>max</th>\n",
       "      <th>count</th>\n",
       "      <th>mean</th>\n",
       "      <th>std</th>\n",
       "      <th>min</th>\n",
       "      <th>25%</th>\n",
       "      <th>50%</th>\n",
       "      <th>75%</th>\n",
       "      <th>max</th>\n",
       "    </tr>\n",
       "    <tr>\n",
       "      <th>PROPTYPE</th>\n",
       "      <th></th>\n",
       "      <th></th>\n",
       "      <th></th>\n",
       "      <th></th>\n",
       "      <th></th>\n",
       "      <th></th>\n",
       "      <th></th>\n",
       "      <th></th>\n",
       "      <th></th>\n",
       "      <th></th>\n",
       "      <th></th>\n",
       "      <th></th>\n",
       "      <th></th>\n",
       "      <th></th>\n",
       "      <th></th>\n",
       "      <th></th>\n",
       "      <th></th>\n",
       "      <th></th>\n",
       "      <th></th>\n",
       "      <th></th>\n",
       "      <th></th>\n",
       "    </tr>\n",
       "  </thead>\n",
       "  <tbody>\n",
       "    <tr>\n",
       "      <th>CC</th>\n",
       "      <td>1444.0</td>\n",
       "      <td>7.225364e+07</td>\n",
       "      <td>45088.556068</td>\n",
       "      <td>71836809.0</td>\n",
       "      <td>72251477.0</td>\n",
       "      <td>72270354.0</td>\n",
       "      <td>72277153.75</td>\n",
       "      <td>72296323.0</td>\n",
       "      <td>1444.0</td>\n",
       "      <td>512072.209661</td>\n",
       "      <td>...</td>\n",
       "      <td>1.0</td>\n",
       "      <td>2.0</td>\n",
       "      <td>0.0</td>\n",
       "      <td>NaN</td>\n",
       "      <td>NaN</td>\n",
       "      <td>NaN</td>\n",
       "      <td>NaN</td>\n",
       "      <td>NaN</td>\n",
       "      <td>NaN</td>\n",
       "      <td>NaN</td>\n",
       "    </tr>\n",
       "    <tr>\n",
       "      <th>MF</th>\n",
       "      <td>484.0</td>\n",
       "      <td>7.225119e+07</td>\n",
       "      <td>47702.020613</td>\n",
       "      <td>71888962.0</td>\n",
       "      <td>72246695.0</td>\n",
       "      <td>72266094.5</td>\n",
       "      <td>72274428.25</td>\n",
       "      <td>72294677.0</td>\n",
       "      <td>484.0</td>\n",
       "      <td>498397.169421</td>\n",
       "      <td>...</td>\n",
       "      <td>1.0</td>\n",
       "      <td>7.0</td>\n",
       "      <td>0.0</td>\n",
       "      <td>NaN</td>\n",
       "      <td>NaN</td>\n",
       "      <td>NaN</td>\n",
       "      <td>NaN</td>\n",
       "      <td>NaN</td>\n",
       "      <td>NaN</td>\n",
       "      <td>NaN</td>\n",
       "    </tr>\n",
       "    <tr>\n",
       "      <th>SF</th>\n",
       "      <td>3243.0</td>\n",
       "      <td>7.225306e+07</td>\n",
       "      <td>44125.890963</td>\n",
       "      <td>71152163.0</td>\n",
       "      <td>72246143.5</td>\n",
       "      <td>72265821.0</td>\n",
       "      <td>72274353.00</td>\n",
       "      <td>72301673.0</td>\n",
       "      <td>3243.0</td>\n",
       "      <td>464208.570802</td>\n",
       "      <td>...</td>\n",
       "      <td>2.0</td>\n",
       "      <td>9.0</td>\n",
       "      <td>0.0</td>\n",
       "      <td>NaN</td>\n",
       "      <td>NaN</td>\n",
       "      <td>NaN</td>\n",
       "      <td>NaN</td>\n",
       "      <td>NaN</td>\n",
       "      <td>NaN</td>\n",
       "      <td>NaN</td>\n",
       "    </tr>\n",
       "  </tbody>\n",
       "</table>\n",
       "<p>3 rows × 112 columns</p>\n",
       "</div>"
      ],
      "text/plain": [
       "          MLSNUM                                                      \\\n",
       "           count          mean           std         min         25%   \n",
       "PROPTYPE                                                               \n",
       "CC        1444.0  7.225364e+07  45088.556068  71836809.0  72251477.0   \n",
       "MF         484.0  7.225119e+07  47702.020613  71888962.0  72246695.0   \n",
       "SF        3243.0  7.225306e+07  44125.890963  71152163.0  72246143.5   \n",
       "\n",
       "                                              LISTPRICE                 ...  \\\n",
       "                 50%          75%         max     count           mean  ...   \n",
       "PROPTYPE                                                                ...   \n",
       "CC        72270354.0  72277153.75  72296323.0    1444.0  512072.209661  ...   \n",
       "MF        72266094.5  72274428.25  72294677.0     484.0  498397.169421  ...   \n",
       "SF        72265821.0  72274353.00  72301673.0    3243.0  464208.570802  ...   \n",
       "\n",
       "         GARAGE      COOLING                               \n",
       "            75%  max   count mean std min 25% 50% 75% max  \n",
       "PROPTYPE                                                   \n",
       "CC          1.0  2.0     0.0  NaN NaN NaN NaN NaN NaN NaN  \n",
       "MF          1.0  7.0     0.0  NaN NaN NaN NaN NaN NaN NaN  \n",
       "SF          2.0  9.0     0.0  NaN NaN NaN NaN NaN NaN NaN  \n",
       "\n",
       "[3 rows x 112 columns]"
      ]
     },
     "execution_count": 9,
     "metadata": {},
     "output_type": "execute_result"
    }
   ],
   "source": [
    "# Group by prop type\n",
    "\n",
    "data_by_proptype = data.groupby('PROPTYPE')\n",
    "data_by_proptype.describe()"
   ]
  },
  {
   "cell_type": "code",
   "execution_count": 10,
   "metadata": {
    "pycharm": {
     "name": "#%%\n"
    }
   },
   "outputs": [
    {
     "data": {
      "text/html": [
       "<div>\n",
       "<style scoped>\n",
       "    .dataframe tbody tr th:only-of-type {\n",
       "        vertical-align: middle;\n",
       "    }\n",
       "\n",
       "    .dataframe tbody tr th {\n",
       "        vertical-align: top;\n",
       "    }\n",
       "\n",
       "    .dataframe thead th {\n",
       "        text-align: right;\n",
       "    }\n",
       "</style>\n",
       "<table border=\"1\" class=\"dataframe\">\n",
       "  <thead>\n",
       "    <tr style=\"text-align: right;\">\n",
       "      <th></th>\n",
       "      <th>LISTPRICE</th>\n",
       "      <th>SOLDPRICE</th>\n",
       "    </tr>\n",
       "    <tr>\n",
       "      <th>PROPTYPE</th>\n",
       "      <th></th>\n",
       "      <th></th>\n",
       "    </tr>\n",
       "  </thead>\n",
       "  <tbody>\n",
       "    <tr>\n",
       "      <th>CC</th>\n",
       "      <td>512072.209661</td>\n",
       "      <td>515437.729363</td>\n",
       "    </tr>\n",
       "    <tr>\n",
       "      <th>MF</th>\n",
       "      <td>498397.169421</td>\n",
       "      <td>493278.811983</td>\n",
       "    </tr>\n",
       "    <tr>\n",
       "      <th>SF</th>\n",
       "      <td>464208.570802</td>\n",
       "      <td>456815.676056</td>\n",
       "    </tr>\n",
       "  </tbody>\n",
       "</table>\n",
       "</div>"
      ],
      "text/plain": [
       "              LISTPRICE      SOLDPRICE\n",
       "PROPTYPE                              \n",
       "CC        512072.209661  515437.729363\n",
       "MF        498397.169421  493278.811983\n",
       "SF        464208.570802  456815.676056"
      ]
     },
     "execution_count": 10,
     "metadata": {},
     "output_type": "execute_result"
    }
   ],
   "source": [
    "# Zoom in\n",
    "\n",
    "data_by_proptype[['LISTPRICE', 'SOLDPRICE']].mean()"
   ]
  },
  {
   "cell_type": "markdown",
   "metadata": {},
   "source": [
    "### 3. Introducing [Linear Regression](https://scikit-learn.org/stable/modules/linear_model.html) with Scikit Learn"
   ]
  },
  {
   "cell_type": "code",
   "execution_count": 11,
   "metadata": {
    "pycharm": {
     "name": "#%%\n"
    }
   },
   "outputs": [],
   "source": [
    "# Import sklearn\n",
    "\n",
    "from sklearn import datasets, linear_model\n",
    "from sklearn.metrics import mean_squared_error, r2_score\n"
   ]
  },
  {
   "cell_type": "code",
   "execution_count": 12,
   "metadata": {
    "pycharm": {
     "name": "#%%\n"
    }
   },
   "outputs": [],
   "source": [
    "# Define model\n",
    "\n",
    "regr = linear_model.LinearRegression()\n"
   ]
  },
  {
   "cell_type": "code",
   "execution_count": 13,
   "metadata": {
    "pycharm": {
     "name": "#%%\n"
    }
   },
   "outputs": [],
   "source": [
    "# Define label and features (adjustable)\n",
    "\n",
    "label = ['SOLDPRICE']\n",
    "features = ['BEDS', 'BATHS', 'SQFT', 'AGE', 'LOTSIZE', 'GARAGE']\n"
   ]
  },
  {
   "cell_type": "code",
   "execution_count": 14,
   "metadata": {
    "pycharm": {
     "name": "#%%\n"
    }
   },
   "outputs": [
    {
     "name": "stdout",
     "output_type": "stream",
     "text": [
      "   SOLDPRICE  BEDS  BATHS  SQFT  AGE   LOTSIZE  GARAGE\n",
      "0   247000.0    12    4.0  4772  118    8350.0       0\n",
      "1   525000.0     3    3.0  2774   28  106286.0       2\n",
      "2   479000.0     3    2.5  2000    1   30000.0       2\n",
      "3   176505.0     2    1.0     0    0       0.0       0\n",
      "4   530000.0     3    2.5  2639   15   18730.0       2\n"
     ]
    }
   ],
   "source": [
    "# Filter out empties\n",
    "\n",
    "filter_data = data.copy()\n",
    "\n",
    "# Additional\n",
    "filter_data = filter_data[filter_data['SOLDPRICE'] < 1000000]\n",
    "\n",
    "\n",
    "# Apply to all\n",
    "for f in features + label:\n",
    "    # Out empties - (v. imputation)\n",
    "    filter_data = filter_data[filter_data[f].notna()]\n",
    "    \n",
    "    # Interaction terms\n",
    "    \n",
    "    # Standardize\n",
    "    #filter_data[f] = (filter_data[f] - filter_data[f].mean()) / filter_data[f].std()\n",
    "    \n",
    "    # v. Normalize\n",
    "    #filter_data[f] = (filter_data[f] - filter_data[f].min()) / (filter_data[f].max() - filter_data[f].min())\n",
    "    \n",
    "filter_data = filter_data.reset_index()\n",
    "\n",
    "print(filter_data[label + features].head())\n"
   ]
  },
  {
   "cell_type": "code",
   "execution_count": 15,
   "metadata": {
    "pycharm": {
     "name": "#%%\n"
    }
   },
   "outputs": [],
   "source": [
    "# Extract features and label\n",
    "\n",
    "label = filter_data[label]\n",
    "features = filter_data[features]\n"
   ]
  },
  {
   "cell_type": "code",
   "execution_count": 16,
   "metadata": {
    "pycharm": {
     "name": "#%%\n"
    }
   },
   "outputs": [
    {
     "name": "stdout",
     "output_type": "stream",
     "text": [
      "(3838, 1)\n",
      "(3838, 6)\n"
     ]
    }
   ],
   "source": [
    "# !YOUR TURN!\n",
    "\n",
    "# Take a look at the shapes for 'labels' and 'features'\n",
    "print(label.shape)\n",
    "\n",
    "print(features.shape)"
   ]
  },
  {
   "cell_type": "code",
   "execution_count": 17,
   "metadata": {
    "pycharm": {
     "name": "#%%\n"
    }
   },
   "outputs": [
    {
     "name": "stdout",
     "output_type": "stream",
     "text": [
      "Train shape\n",
      "(959, 6) (959, 1)\n",
      "\n",
      "Test shape\n",
      "(2879, 6) (2879, 1)\n"
     ]
    }
   ],
   "source": [
    "# Set up testing and training (adjustable)\n",
    "split = int(len(filter_data) * 0.25)\n",
    "\n",
    "features_train = features[:split]\n",
    "features_test = features[split:]\n",
    "label_train = label[:split]\n",
    "label_test = label[split:]\n",
    "\n",
    "# Check shapes\n",
    "\n",
    "print (\"Train shape\")\n",
    "print (features_train.shape, label_train.shape)\n",
    "print (\"\\nTest shape\")\n",
    "print (features_test.shape, label_test.shape)"
   ]
  },
  {
   "cell_type": "code",
   "execution_count": 18,
   "metadata": {
    "pycharm": {
     "name": "#%%\n"
    }
   },
   "outputs": [
    {
     "data": {
      "text/plain": [
       "LinearRegression()"
      ]
     },
     "execution_count": 18,
     "metadata": {},
     "output_type": "execute_result"
    }
   ],
   "source": [
    "# Fit training sets\n",
    "\n",
    "regr.fit(features_train, label_train)\n"
   ]
  },
  {
   "cell_type": "code",
   "execution_count": 19,
   "metadata": {
    "pycharm": {
     "name": "#%%\n"
    }
   },
   "outputs": [
    {
     "name": "stdout",
     "output_type": "stream",
     "text": [
      "Variance score: 0.29\n"
     ]
    }
   ],
   "source": [
    "# Make predictions using testing set\n",
    "\n",
    "label_pred = regr.predict(features_test)\n",
    "\n",
    "# Explained variance score: 1 is perfect prediction\n",
    "\n",
    "print('Variance score: %.2f' % r2_score(label_test, label_pred))\n"
   ]
  },
  {
   "cell_type": "markdown",
   "metadata": {},
   "source": [
    "### 4. Plot, aka \"Visualize\""
   ]
  },
  {
   "cell_type": "code",
   "execution_count": 20,
   "metadata": {
    "pycharm": {
     "name": "#%%\n"
    }
   },
   "outputs": [],
   "source": [
    "# Import\n",
    "import matplotlib.pyplot as plt"
   ]
  },
  {
   "cell_type": "code",
   "execution_count": 21,
   "metadata": {
    "pycharm": {
     "name": "#%%\n"
    }
   },
   "outputs": [
    {
     "data": {
      "image/png": "[encoded data removed]",
      "text/plain": [
       "<Figure size 1440x360 with 1 Axes>"
      ]
     },
     "metadata": {},
     "output_type": "display_data"
    }
   ],
   "source": [
    "\n",
    "# Plot outputs\n",
    "plt.figure(figsize=(20, 5))\n",
    "plt.scatter(label_test, label_pred, color='black')\n",
    "plt.plot([label_test.min(), label_test.max()], [label_test.min(), label_test.max()], 'k--', lw=4, color='blue')\n",
    "\n",
    "plt.ylabel('Predicted')\n",
    "plt.xlabel('Measured')\n",
    "\n",
    "plt.xticks(())\n",
    "plt.yticks(())\n",
    "\n",
    "plt.show()"
   ]
  },
  {
   "cell_type": "code",
   "execution_count": 22,
   "metadata": {
    "pycharm": {
     "name": "#%%\n"
    }
   },
   "outputs": [
    {
     "data": {
      "image/png": "[encoded data removed]",
      "text/plain": [
       "<Figure size 720x504 with 1 Axes>"
      ]
     },
     "metadata": {
      "needs_background": "light"
     },
     "output_type": "display_data"
    }
   ],
   "source": [
    "# Residual plot\n",
    "\n",
    "plt.figure(figsize=(10, 7))\n",
    "\n",
    "resid = label_test - regr.predict(features_test)\n",
    "\n",
    "plt.axhline(y=0, linestyle='-', linewidth=2, color=\"r\")\n",
    "plt.scatter(x=label_pred, y=resid, alpha=0.5, s=3)\n",
    "\n",
    "plt.title(\"Residual plot\")\n",
    "plt.ylabel(r\"Y-$\\hat Y$\")\n",
    "plt.xlabel(r'$\\hat Y$')\n",
    "plt.tight_layout()\n",
    "plt.show()"
   ]
  },
  {
   "cell_type": "markdown",
   "metadata": {},
   "source": [
    "### 7. Export"
   ]
  },
  {
   "cell_type": "code",
   "execution_count": 23,
   "metadata": {
    "pycharm": {
     "name": "#%%\n"
    }
   },
   "outputs": [
    {
     "data": {
      "text/plain": [
       "['regr.pkl']"
      ]
     },
     "execution_count": 23,
     "metadata": {},
     "output_type": "execute_result"
    }
   ],
   "source": [
    "# Download model as pkl file\n",
    "\n",
    "import joblib\n",
    "joblib.dump(regr, 'regr.pkl')"
   ]
  },
  {
   "cell_type": "markdown",
   "metadata": {},
   "source": [
    "# HOMEWORK 1"
   ]
  },
  {
   "cell_type": "markdown",
   "metadata": {},
   "source": [
    "### 6. Train Test Split"
   ]
  },
  {
   "cell_type": "code",
   "execution_count": 24,
   "metadata": {
    "pycharm": {
     "name": "#%%\n"
    }
   },
   "outputs": [
    {
     "name": "stdout",
     "output_type": "stream",
     "text": [
      "Variance score: 0.31\n"
     ]
    },
    {
     "data": {
      "image/png": "[encoded data removed]",
      "text/plain": [
       "<Figure size 1440x360 with 1 Axes>"
      ]
     },
     "metadata": {},
     "output_type": "display_data"
    },
    {
     "data": {
      "image/png": "[encoded data removed]",
      "text/plain": [
       "<Figure size 720x504 with 1 Axes>"
      ]
     },
     "metadata": {
      "needs_background": "light"
     },
     "output_type": "display_data"
    },
    {
     "data": {
      "text/plain": [
       "['linear-regr.pkl']"
      ]
     },
     "execution_count": 24,
     "metadata": {},
     "output_type": "execute_result"
    }
   ],
   "source": [
    "# YOUR TURN\n",
    "# Use sklearn train|test|split\n",
    "# Ref. https://scikit-learn.org/stable/modules/generated/sklearn.model_selection.train_test_split.html\n",
    "\n",
    "# from sklearn.model_selection import train_test_split\n",
    "from sklearn.model_selection import train_test_split\n",
    "\n",
    "# Init x, y test,train @ 33% size (sklearn)\n",
    "X = features\n",
    "y = label\n",
    "X_train, X_test, y_train, y_test = train_test_split(X, y, test_size=0.33, random_state=839)\n",
    "\n",
    "# Determine linear_model (sklearn - above))\n",
    "regr = linear_model.LinearRegression()\n",
    "\n",
    "# Train linear_model (sklearn)\n",
    "regr.fit(X_train, y_train)\n",
    "\n",
    "y_predict = regr.predict(X_test)\n",
    "\n",
    "# Score Method 1: (sklearn)\n",
    "# Ref. https://stackoverflow.com/questions/45529907/difference-between-model-score-vs-r2-score\n",
    "#  https://scikit-learn.org/stable/modules/generated/sklearn.model_selection.train_test_split.html\n",
    "print('Variance score: %.2f' % r2_score(y_test, y_predict))\n",
    "\n",
    "# Score Method 2 (sklearn)\n",
    "\n",
    "\n",
    "# Plot outputs (matplotlab - above)\n",
    "plt.figure(figsize=(20, 5))\n",
    "plt.scatter(y_test, y_predict, color='black')\n",
    "plt.plot([y_test.min(), y_test.max()], [y_test.min(), y_test.max()], 'k--', lw=4, color='blue')\n",
    "\n",
    "plt.ylabel('Predicted')\n",
    "plt.xlabel('Measured')\n",
    "\n",
    "plt.xticks(())\n",
    "plt.yticks(())\n",
    "\n",
    "plt.show()\n",
    "# Residual plot\n",
    "\n",
    "plt.figure(figsize=(10, 7))\n",
    "\n",
    "resid = y_test - regr.predict(X_test)\n",
    "\n",
    "plt.axhline(y=0, linestyle='-', linewidth=2, color=\"r\")\n",
    "plt.scatter(x=y_predict, y=resid, alpha=0.5, s=3)\n",
    "\n",
    "plt.title(\"Residual plot\")\n",
    "plt.ylabel(r\"Y-$\\hat Y$\")\n",
    "plt.xlabel(r'$\\hat Y$')\n",
    "plt.tight_layout()\n",
    "plt.show()\n",
    "\n",
    "# Download model as pkl file\n",
    "joblib.dump(regr, 'linear-regr.pkl')"
   ]
  },
  {
   "cell_type": "markdown",
   "metadata": {},
   "source": [
    "### 7. Decision Tree"
   ]
  },
  {
   "cell_type": "code",
   "execution_count": 25,
   "metadata": {
    "pycharm": {
     "name": "#%%\n"
    }
   },
   "outputs": [
    {
     "name": "stdout",
     "output_type": "stream",
     "text": [
      "Variance score: -0.21\n"
     ]
    },
    {
     "data": {
      "image/png": "[encoded data removed]",
      "text/plain": [
       "<Figure size 1440x360 with 1 Axes>"
      ]
     },
     "metadata": {},
     "output_type": "display_data"
    },
    {
     "data": {
      "image/png": "[encoded data removed]",
      "text/plain": [
       "<Figure size 720x504 with 1 Axes>"
      ]
     },
     "metadata": {
      "needs_background": "light"
     },
     "output_type": "display_data"
    },
    {
     "data": {
      "text/plain": [
       "['decision-tree.pkl']"
      ]
     },
     "execution_count": 25,
     "metadata": {},
     "output_type": "execute_result"
    }
   ],
   "source": [
    "# YOUR TURN\n",
    "# Run DecisionTreeRegressor\n",
    "# HINT: https://scikit-learn.org/stable/modules/generated/sklearn.tree.DecisionTreeRegressor.html\n",
    "from sklearn.tree import DecisionTreeRegressor\n",
    "# Create regressor\n",
    "regressor = DecisionTreeRegressor(random_state=0)\n",
    "\n",
    "# Fit\n",
    "regressor.fit(X_train, y_train)\n",
    "\n",
    "# Predictions\n",
    "y_predict = regressor.predict(X_test)\n",
    "\n",
    "# Score\n",
    "print('Variance score: %.2f' % r2_score(y_test, y_predict))\n",
    "\n",
    "# Plot outputs (matplotlab - above)\n",
    "plt.figure(figsize=(20, 5))\n",
    "plt.scatter(y_test, y_predict, color='black')\n",
    "plt.plot([y_test.min(), y_test.max()], [y_test.min(), y_test.max()], 'k--', lw=4, color='blue')\n",
    "\n",
    "plt.ylabel('Predicted')\n",
    "plt.xlabel('Measured')\n",
    "\n",
    "plt.xticks(())\n",
    "plt.yticks(())\n",
    "\n",
    "plt.show()\n",
    "# Residual plot\n",
    "\n",
    "plt.figure(figsize=(10, 7))\n",
    "\n",
    "resid = y_test - regr.predict(X_test)\n",
    "\n",
    "plt.axhline(y=0, linestyle='-', linewidth=2, color=\"r\")\n",
    "plt.scatter(x=y_predict, y=resid, alpha=0.5, s=3)\n",
    "\n",
    "plt.title(\"Residual plot\")\n",
    "plt.ylabel(r\"Y-$\\hat Y$\")\n",
    "plt.xlabel(r'$\\hat Y$')\n",
    "plt.tight_layout()\n",
    "plt.show()\n",
    "\n",
    "# Download model as pkl file\n",
    "joblib.dump(regr, 'decision-tree.pkl')"
   ]
  },
  {
   "cell_type": "markdown",
   "metadata": {},
   "source": [
    "### 8. KNN"
   ]
  },
  {
   "cell_type": "code",
   "execution_count": 26,
   "metadata": {},
   "outputs": [
    {
     "name": "stdout",
     "output_type": "stream",
     "text": [
      "Variance score: 0.16\n"
     ]
    },
    {
     "data": {
      "image/png": "[encoded data removed]",
      "text/plain": [
       "<Figure size 1440x360 with 1 Axes>"
      ]
     },
     "metadata": {},
     "output_type": "display_data"
    },
    {
     "data": {
      "image/png": "[encoded data removed]",
      "text/plain": [
       "<Figure size 720x504 with 1 Axes>"
      ]
     },
     "metadata": {
      "needs_background": "light"
     },
     "output_type": "display_data"
    },
    {
     "data": {
      "text/plain": [
       "['knn.pkl']"
      ]
     },
     "execution_count": 26,
     "metadata": {},
     "output_type": "execute_result"
    }
   ],
   "source": [
    "# YOUR TURN\n",
    "# Run KNeighborsRegressor\n",
    "from sklearn.neighbors import KNeighborsRegressor\n",
    "\n",
    "\n",
    "# Create regressor\n",
    "regr = KNeighborsRegressor(n_neighbors=5)\n",
    "\n",
    "# Fit\n",
    "regr.fit(X_train, y_train)\n",
    "\n",
    "# Predictions\n",
    "y_predict = regr.predict(X_test)\n",
    "\n",
    "# Score\n",
    "print('Variance score: %.2f' % r2_score(y_test, y_predict))\n",
    "\n",
    "# Plot outputs (matplotlab - above)\n",
    "plt.figure(figsize=(20, 5))\n",
    "plt.scatter(y_test, y_predict, color='black')\n",
    "plt.plot([y_test.min(), y_test.max()], [y_test.min(), y_test.max()], 'k--', lw=4, color='blue')\n",
    "\n",
    "plt.ylabel('Predicted')\n",
    "plt.xlabel('Measured')\n",
    "\n",
    "plt.xticks(())\n",
    "plt.yticks(())\n",
    "\n",
    "plt.show()\n",
    "\n",
    "# Residual plot\n",
    "\n",
    "plt.figure(figsize=(10, 7))\n",
    "\n",
    "resid = y_test - regr.predict(X_test)\n",
    "\n",
    "plt.axhline(y=0, linestyle='-', linewidth=2, color=\"r\")\n",
    "plt.scatter(x=y_predict, y=resid, alpha=0.5, s=3)\n",
    "\n",
    "plt.title(\"Residual plot\")\n",
    "plt.ylabel(r\"Y-$\\hat Y$\")\n",
    "plt.xlabel(r'$\\hat Y$')\n",
    "plt.tight_layout()\n",
    "plt.show()\n",
    "\n",
    "# Download model as pkl file\n",
    "joblib.dump(regr, 'knn.pkl')"
   ]
  },
  {
   "cell_type": "markdown",
   "metadata": {},
   "source": [
    "### Ref\n",
    "    + https://stackoverflow.com/questions/26414913/normalize-columns-of-pandas-data-frame"
   ]
  }
 ],
 "metadata": {
  "kernelspec": {
   "display_name": "Python 3",
   "language": "python",
   "name": "python3"
  },
  "language_info": {
   "codemirror_mode": {
    "name": "ipython",
    "version": 3
   },
   "file_extension": ".py",
   "mimetype": "text/x-python",
   "name": "python",
   "nbconvert_exporter": "python",
   "pygments_lexer": "ipython3",
   "version": "3.7.7"
  }
 },
 "nbformat": 4,
 "nbformat_minor": 1
}